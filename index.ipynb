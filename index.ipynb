{
 "cells": [
  {
   "cell_type": "markdown",
   "metadata": {},
   "source": [
    "This document is a very early draft. Source code on https://github.com/monkeypants/data_sharing/, pull requests welcome."
   ]
  },
  {
   "cell_type": "markdown",
   "metadata": {},
   "source": [
    "#Why is so much public data hidden?\n",
    "\n",
    "Government policy mandates that publicaly owned data should be shared by default (and hidden by exception) [TODO: insert relevant link]. Sometimes public data is hidden to protect the people or objects that the data is about. Sometimes this data is hidden because of specific protections in law. Often it is hidden because public servants make ballanced judgement decisions about sharing (or hiding) publically owned data.\n",
    "\n",
    "The purpose of this repository is to explore the last of the above categories; judgement decisions made by public servants to share or hide public data. I'm looking for answers to these questions:\n",
    "\n",
    " * Are we striking the right ballance, or are we hiding/sharing more than we should be?\n",
    " * Why data is hidden when it should be shared?\n",
    " * Why is data shared when it should be hidden?\n",
    " * What factors influence data sharing/hiding decisions?\n",
    " * How can we optimise the decision making process? "
   ]
  },
  {
   "cell_type": "markdown",
   "metadata": {},
   "source": [
    "# What is the evidence\n",
    "\n",
    "TODO: Case studies:\n",
    "* evidence of practical challenges to data sharing\n",
    "* evidence that data sharing challenges can be overcome\n",
    "\n",
    "TODO: Surveys, questionaires, interviews, existing data, new research...."
   ]
  },
  {
   "cell_type": "markdown",
   "metadata": {},
   "source": [
    "# Models of data sharing/hiding decisions\n",
    "\n",
    "There are two ways to consider data sharing/hiding decisions. One is to consider them as binary decisions (to either share or hide), in which case we can use ROC Curve analysis to examine decision making performance. This analysis applies to \"forced choice decisions\" when a public servant must decide one way or the other (\"no decision\" is not an option). This kind of analysis may prove useful for designing policy levers and settings to achieve consistently good decisions under controlled circumstances. In other words, it is a way to study formal sharing/hidnig approval process that are executed at a middle mamagement tier.\n",
    "\n",
    "An other way to consider sharing/hiding decisions is using a behavioral paradigm. In other words, treat a \"decision to share data\" as a contextural choice event, like the decision to answer a ringing phone, scratch an itch, check your email or multiask some combination thereoff. By analysing data sharing decisions as \"situated actions\", we gain a \n",
    "behavioral perspective which may be useful for determining how context can be maniulated to achieve optimum decisions. This is a way to study informal sharing/hiding decisions, and the influence of organisational culture at a personal level."
   ]
  },
  {
   "cell_type": "markdown",
   "metadata": {
    "collapsed": true
   },
   "source": [
    "# \"Share or Hide\" is a binary classifier\n",
    "\n",
    "Binary classification systems have been studdied by electrical engineers since the development of radar during WWII, and are represented as a body of knowledge known as Signal Detection Theory (SDT). Techniques from SDT are also applied in psychometric analysis to study sensation and perception, as well as analysis of binary (forced-choice) decisions in psychology.\n",
    "\n",
    "In Signal Detection Theory, performance of binary classifiers are studdied by experiments that measure:\n",
    "\n",
    "* Hits: corectly detecting a stimulus, signal or enemy warship\n",
    "* Misses: failing to detect a signal when present\n",
    "* Correct rejections: indicating that no signal is present when there is in fact no signal\n",
    "* False alarms: indicating a signal is present when there is none\n",
    "\n",
    "Put another way, the result of binary classification experiment is measured as a classification table:\n",
    "\n",
    "| Decision | Correct           | Incorrect   |\n",
    "|----------|-------------------|-------------|\n",
    "| Yes      | Hit               | False Alarm |\n",
    "| No       | Correct rejection | Miss        |\n",
    "\n",
    "Assuming a binary model for data sharing/hiding decisions, we can form an equivalent classification table:\n",
    "\n",
    "| Decision   | Correct               | Wrong                   |\n",
    "|------------|-----------------------|-------------------------|\n",
    "| Share data | Correctly shared data | Incorrectly shared data |\n",
    "| Hide data  | Correctly hidden data | Incorrectly hidden data |\n",
    "\n",
    "\n",
    "SDT analysis allows us to study bias (sensitivity and specificity) and performance (area under the receiver operating characteristic curve) of binary classifiers. \n",
    "\n",
    "\n",
    "## Sensitivity\n",
    "\n",
    "Arguments in favour of data sharing focus on the social, econnomic and environmental value derived from \"correctly shared data\". The cost of \"incorrectly hidden data\" is the failure to realise this value.\n",
    "\n",
    "* if we shared no data at all, we would recieve none of the sharing benefit.\n",
    "* If we shared all data, we would recieve all the sharing benefit.\n",
    "\n",
    "Signal Detection Theory defines the \"True Positive Rate\" (TPR or classifier \"sensitivity\") as the ratio of Hits to False Alarms. In our case, the TPR is ratio of correctly shared data to incorrectly shared data.\n",
    "\n",
    "$$\\text{sensitivity} = \\frac{\\text{correctly shared data}}{\\text{incorrectly shared data}}$$\n",
    "\n",
    "We should aim to understand the TPR of data sharing decisions, how we can maximise the sensitivity to achieve the most value. If everything else was held constant, and we managed to increase the sensitivity of the classifier, we would increase it's performance."
   ]
  },
  {
   "cell_type": "markdown",
   "metadata": {},
   "source": [
    "## Specificity\n",
    "\n",
    "Arguments in favour of data hiding focus on the social, econnomic and environmental risk derived from \"incorectly shared data\". The benefits of \"correctly hidden data\" are the counterpoint of this.\n",
    "\n",
    "* if we shared all the data we would be exposed to the full risk\n",
    "* if we shared no data at all we would be exposed to none of the risk\n",
    "\n",
    "Signal Detection Theory defines the \"False Positive Rate\" (FPR or classifier \"specificity\") as the ratio of correct rejections to misses. In our case, the FPR is the ratio of correctly hidden data to incorrectly hidden data. \n",
    "\n",
    "$$\\text{specificity} = \\frac{\\text{correctly hidden data}}{\\text{incorrectly hidden data}}$$\n",
    "\n",
    "We should aim to understand the FPR of data hiding decisions, how we can maximise the specificity to mitigate risk with the best efficiency. All else being equal, of we managed to increase the specificty of a binary classifier, we would increase it's performance."
   ]
  },
  {
   "cell_type": "markdown",
   "metadata": {},
   "source": [
    "# Performance\n",
    "\n",
    "Many types of binary classifiers can be *tuned* to either avoid misses (increase sensitivity) or avoid false alarms (increase specificity). This tuning does not make the classifier more or less accurate, sensitivity is sacrificed to increase specificity (and vica versa, no free lunch). The word \"bias\" is used to describe changes which trade-off sensitivity for specificity (and vica-verca).\n",
    "\n",
    "Changing a classifier to increases it's sensitivity and specificity both together do increase it's performance, independant of bias. These kinds of changes generally involve giving the classifier more information, or using the information it has more efficiently. "
   ]
  },
  {
   "cell_type": "markdown",
   "metadata": {},
   "source": [
    "## Bias\n",
    "\n",
    "Wikipedia defined bias as \"is an inclination or outlook to present or hold a partial perspective\" (https://en.wikipedia.org/wiki/Bias). In data sharing/hiding decisions, a sharing bias means erring on the side of incorrect sharing, and a hiding bias means to err on the side of incorrect hiding. \n",
    "\n",
    "Formal processes for making data sharing decisions will have a bias that can be studied with the Signal Detection techniques, and adjusted through policy settings.\n",
    "\n",
    "* A \"data sharing bias\" will raise sensitivity and lower specificity\n",
    "* A \"data hiding bias\" will raise specificity and lower sensitivity\n",
    "\n",
    "Given an evenly distributed sample of data, a neutral bias will result in equal numbers of hide decisions and share decisions. Increasing the sensitivity will increase the number of share decisions relative to hide decisions and increasing the specificity will increase the rate of hide decisions relative to share decisions\n",
    "\n",
    "* increasing sensitivity results in a coresponding reduction in specifity\n",
    "* increasing specificity makes a coresponding reduction in sensitivity\n",
    "\n",
    "Informal factors that influence data sharing/hiding decisions (such as culture and perception) will also have systematic biases that can be studied and adjusted through eductation and messaging.\n",
    "\n",
    "The policy of \"open by default\" suggests a high sensitivity to data sharing (low rate of incorrectly hidden data). It does not imply a data sharing bias, however a data hiding bias will lower sensitivity. A data hiding bias may be the result of excessive caution, with regard to e.g. Protective Security Policy (https://protectivesecurity.gov.au)."
   ]
  },
  {
   "cell_type": "markdown",
   "metadata": {},
   "source": [
    "## Modelling  bias and performance\n",
    "\n",
    "Signal Detection Theory combines FPR and TPR in a mathematical tool called Reciever Operating Characteristic Curve (ROC Curve), which is used to measure and analyse (characterise) the performance of a binary classifier (reciever) across the range of it's bias (operating settings).\n",
    "\n",
    "https://en.wikipedia.org/wiki/Receiver_operating_characteristic\n",
    "\n",
    "ROC curve analysis measures the performance of a binary classifier with an adjustable bias. One way it is useful is for comparing the performance of different binary classifiers. Another way is is useful is to show how the performance of a binary classifier changes across the spectrum of possible bias.  \n"
   ]
  },
  {
   "cell_type": "code",
   "execution_count": 5,
   "metadata": {
    "collapsed": false
   },
   "outputs": [
    {
     "data": {
      "image/png": "[encoded data removed]",
      "text/plain": [
       "<matplotlib.figure.Figure at 0x7fc7989fe750>"
      ]
     },
     "metadata": {},
     "output_type": "display_data"
    }
   ],
   "source": [
    "%matplotlib inline\n",
    "from roc_curve import demo\n",
    "demo()"
   ]
  },
  {
   "cell_type": "markdown",
   "metadata": {},
   "source": [
    "In the above plot, the dashed line represents a random guess binary classifier. In the middle of the plot, where the false positive rate is 0.5 (50%), the dashed line passes through the true positive rate of 0.5 as well. This mid point is neutral bias, such as a fair coin toss scenaio. The rest of the dashed line represents random guess with non-neutral bias.\n",
    "\n",
    "The blue line is a measured ROC curve of a machine learning algorithm that predicting plant taxonomy based on some sample data (see the file roc_curve.py for details). If we had the right data, we could plot a similar ROC curve \n",
    "about data sharing/decisions.\n",
    "\n",
    "We can learn a few things about our classifier by simply looking at the above plot. We can observe that above a sertain  specificity (about 0.6), the classifier never raises a false alarm (given our sample data). Even adjusting the bias so there are zero false positives, this classifier still sufficiently sensitive to identify about 15% of samples corectly. \n",
    "\n",
    "We can see that across the full range of bias, the blue line is above the dashed line so the  classifier is always superior to randomly guessing. If the blue line dipped bellow the dashed line at some point, it would actualy be worse than guessing at that bias.\n",
    "\n",
    "We can also see that the total area under the blue line is  reported on the chart (area = 0.79). This is an interesting number, because it indicates how much \"better than guessing\" the classifier is overall, for any bias setting. This number is used to compare the performance of two binary classifiers (bigger is better, 0.5 represents random guessing and 1.0 represents perfect accuracy). \n",
    "\n",
    "The ability to compare classifier performance by their \"area under the ROC curve\" works because the shape of the curve can be transformed by calibrating the axes of the plot, but calibration can not create new information (the area under the curve always remains the same). So, two classifiers with the same area under the ROC curve can be calibrated to do exactly the same job. And with the correct calibration, a classifier with a higher area under the ROC curve always has superior performance.\n",
    "\n",
    "\n",
    "## ROC curve analysis to data sharing decisions\n",
    "\n",
    "Just imagine we had some experimental apparatus that allowed us to assess the performance of various classifiers (e.g. individual public servants making share/hide decisions under a controlled circumstances) with *subjective bias*, and compare that to *objective bias* based on on consistently applied rules with full information. We could use this aparatus to both characterise classifiers (across different classes of data) and assess systematic bias.\n",
    "\n",
    "Characterising performance would allow us to:\n",
    " * compare the bias of subjective and objective classifiers\n",
    " * compare the performance of subjective and objective classifiers\n",
    " \n",
    "Note that these two things are quite different. If a subjective classifier has similar performance but different bias, then it requires calibration to adjust (*tune*) it's bias.  But if it has similar bias but different performance, then it we need to treat the decision differently (change the *context*); such as providing more information, deconflicted guidance, or adjustments to policy or legislation.  \n",
    "\n",
    "Before profitably applying ROC curve analysis to data sharing decisions, we need theories that can be tested with experiments, that can be used to identify actions which will result in better outcomes."
   ]
  },
  {
   "cell_type": "markdown",
   "metadata": {},
   "source": [
    "\n",
    "## theory 1: data sharing suffers from a tragedy of the commons\n",
    "\n",
    "The asymetric personal ecconomic consequence results in a pattern called \"the tradgedy of the commons\", which results in sub-optimal value. Data sharing decision makers are naturally expected to have an inherent bias which will result in missed oportunities to share data that should have been shared, while scruprulously avoiding data sharing that should not be shared.\n",
    "\n",
    "```\n",
    "The negative consequences of incorrect-sharing are born personally (ecconomic internality)\n",
    "by the decision maker, however the consequences of correct sharing are an ecconomic externality.\n",
    "Across all types of data, there will be a systematic data-hiding bias.\n",
    "```\n",
    "\n",
    "A bias towards \"hiding data at any excuse\" will result in a loss of utility for society, the economy and the environment. These are ecconomic externalities to the decision maker, who is not personally affected in a significant way.\n",
    "\n",
    "An bias towards \"sharing data regardless of risks\" will directly expose the Government, Agency and Public Servant themselves to risk. There would be comparatably less risk for society, the ecconomy and the environment. This is an ecconomic internality to the decision maker.\n",
    "\n",
    "If this theory is true, bias will be in evidence (\"Incorrectly hidden\" rate will be higher than \"Incorrectly shared\" rate). This theory could be evaluated empirically by disproving the following null Hypothesese:\n",
    "\n",
    " * mitigating personal consequence of incorrect sharing will NOT improve performance\n",
    " * mitigating personal consequence of incorrect sharing will NOT reduce hiding bias\n",
    " * internalising value of correct sharing will NOT improve performance\n",
    " * internalising value of correct sharing will NOT reduce hiding bias\n",
    "\n",
    "If this theory is strongly supported by evidence, it would suggest a strategic requirement to achieve some or all of the following:\n",
    " * Improve specificity of data-hiding factors. For example, clarify and deconflict guidance for decision makers.\n",
    " * Create mechanisms that mitigate personal consequence of incorrect sharing. For example, an appropriately governed proxy that takes responsability for incorrectly shared data.\n",
    " * Create mechanisms that internalise the benefits of correct data sharing. For example, recognise and reward correct data sharing. "
   ]
  },
  {
   "cell_type": "markdown",
   "metadata": {},
   "source": [
    "\n",
    "## theory 2: data sharing decisions are influenced by the psychology of risk aversion \n",
    "\n",
    "The benefits of data sharing are difficult to quantify, because exactly when and how data will prove useful can be very difficult to predict. This creates a perception that the cost of hiding-bias has high uncertainty.\n",
    "\n",
    "The cost of bias towards sharing data seems easier to predict. Damaged reputations, a damaged carrear and possibly even gaol. This creates a perception that the cost of sharing-bias has low uncertainty.\n",
    "\n",
    "These are the conditions which result in the psychological phenomina known as risk aversion.\n",
    "\n",
    "https://en.wikipedia.org/wiki/Risk_aversion_%28psychology%29\n",
    "\n",
    "If data sharing decisions are being influenced by risk aversion, this will result in data-hiding bias.\n",
    "\n",
    "This theory could be evaluated empirically by disproving the following null Hypothesese:\n",
    " * increasing uncertainty about the consequences of incorrect sharing will NOT reduce hiding bias\n",
    " * increasing uncertainty about the consequences of incorrect sharing will NOT increase performance\n",
    " * decreasing uncertainty about the concequence of correct sharing will NOT reduce hiding bias\n",
    " * decreasing uncertainty about the consequence of correct sharing will NOT increase performance\n",
    "\n",
    "\n",
    "If this theory is strongly supported by evidence, it would suggest a strategic requirement to achieve some or all of the following:\n",
    " * Create predictable benefits of correct sharing (e.g. link sharing performance to funding).\n",
    " * Manufacture uncertainty around the negative consequence of incorrect sharing (e.g. manufacture doubt.\n",
    " *"
   ]
  },
  {
   "cell_type": "markdown",
   "metadata": {},
   "source": [
    "\n",
    "\n",
    "# untangle...\n",
    "\n",
    "The rest of these words have been removed from the above, but not quite deleted as they are reminders for ideas that I want to put back in.\n",
    "\n",
    "\n",
    "Subjective / Objective risk mismatch\n",
    "\n",
    "\n",
    "Some data will be safe to share and high valuable, other data will be dangerous to share and low value\n",
    "\n",
    "This means the optimal performing classifier will display a appropriate bias to account for the different misclassification costs. This \"optimum bias\" will be different for different data.\n",
    "\n",
    "It's easy to miss an important point here: The bias that is measured/characterised by ROC Cruve analysis is exactly the same thing as the relative assessments of costs and risks made by the data sharing/hiding decision maker, in a binary forced-choice decision situation. By measuring one, we measure the other.\n",
    "\n",
    "If we are able to conduct experiments that allow us to perform ROC Curve analysis on data sharing/hiding decisions in a specific context, then we will be directly measuring the subjective risk and value assessments of the decision maker.\n",
    "\n",
    "This would create two opportunities:\n",
    "* compare subjective and objective risk/value assessment, to evaluate opportunities to improve performance through providing better information and adressing dysfunctional cultural norms\n",
    "* understand the impact on decision performance of \"adjusting sensitivity\", e.g. by recalibrating risk posture\n",
    "\n",
    "More Reading:\n",
    "* example of comparative analysis in OH&S Domain: http://www.tandfonline.com/doi/pdf/10.1080/10803548.2010.11076826\n",
    "* https://en.wikipedia.org/wiki/Risk_aversion_%28psychology%29\n",
    "\n",
    "\n",
    "## The deeper question: To share or not to share\n",
    "\n",
    "Once we have the apparatus to experiment with forced-choice data sharing decisions, we will have the ability to model and measure the domain, identify and correct cultural bias, and adopt the most appropriate risk posture for optimal outcomes.\n",
    "\n",
    "The next step is to study how culture and context can be \"nudged\" to manipulate sharing/hiding decisions, such that subjective and objective risks are aligned. "
   ]
  },
  {
   "cell_type": "code",
   "execution_count": null,
   "metadata": {
    "collapsed": true
   },
   "outputs": [],
   "source": []
  }
 ],
 "metadata": {
  "kernelspec": {
   "display_name": "Python 2",
   "language": "python",
   "name": "python2"
  },
  "language_info": {
   "codemirror_mode": {
    "name": "ipython",
    "version": 2
   },
   "file_extension": ".py",
   "mimetype": "text/x-python",
   "name": "python",
   "nbconvert_exporter": "python",
   "pygments_lexer": "ipython2",
   "version": "2.7.6"
  }
 },
 "nbformat": 4,
 "nbformat_minor": 0
}
